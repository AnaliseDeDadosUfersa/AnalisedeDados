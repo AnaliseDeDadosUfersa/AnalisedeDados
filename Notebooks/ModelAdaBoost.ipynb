{
 "cells": [
  {
   "cell_type": "markdown",
   "metadata": {},
   "source": [
    "# Model AdaBoost"
   ]
  },
  {
   "cell_type": "markdown",
   "metadata": {},
   "source": [
    "<p>\n",
    "    O AdaBoost é um classificador que se baseia em um calculo similar ao calculo do MLP. É definido varias variaveis Wn que determinam os pesos dos modelos fracos contidos no modelo, esses Wn são atribuidos a partir de predições sucessivas mediante a seus erros. Os modelos fracos como o proprio nome diz, são modelos que não conseguem por si so predizer com eficiencia a classificação de um determinado dado, o AdaBoost determina assim um calculo interno e soma as predições dos classificadores fracos multiplicados pelo seu peso W para determinar a saida y.\n",
    "</p>"
   ]
  },
  {
   "cell_type": "code",
   "execution_count": 2,
   "metadata": {},
   "outputs": [],
   "source": [
    "from AdaBoost import AdaBoost\n",
    "import pandas as pd\n",
    "import json as js"
   ]
  },
  {
   "cell_type": "code",
   "execution_count": 3,
   "metadata": {},
   "outputs": [],
   "source": [
    "modelAda = AdaBoost(\"../Csv/Model.csv\", 0)"
   ]
  },
  {
   "cell_type": "markdown",
   "metadata": {},
   "source": [
    "## 5.2 - Adjustment in algorithm"
   ]
  },
  {
   "cell_type": "code",
   "execution_count": 4,
   "metadata": {},
   "outputs": [],
   "source": [
    "modelAda.defineTest(0.3) #define que o modelo terá 30 % dos dados de treino e 70 % dos dados como teste"
   ]
  },
  {
   "cell_type": "code",
   "execution_count": 5,
   "metadata": {},
   "outputs": [
    {
     "data": {
      "text/plain": [
       "AdaBoostClassifier(algorithm='SAMME.R', base_estimator=None, learning_rate=1.0,\n",
       "                   n_estimators=100, random_state=0)"
      ]
     },
     "execution_count": 5,
     "metadata": {},
     "output_type": "execute_result"
    }
   ],
   "source": [
    "modelAda.model.fit(modelAda.x_train, modelAda.y_train) #treina o modelo"
   ]
  },
  {
   "cell_type": "markdown",
   "metadata": {},
   "source": [
    "## 5.3 - Validation"
   ]
  },
  {
   "cell_type": "code",
   "execution_count": 6,
   "metadata": {},
   "outputs": [
    {
     "name": "stdout",
     "output_type": "stream",
     "text": [
      "Porcentagem de acerto nos dados de teste:  93.33 %\n"
     ]
    }
   ],
   "source": [
    "print(\"Porcentagem de acerto nos dados de teste: \", round(modelAda.model.score(modelAda.x_test, modelAda.y_test) * 100, 2), \"%\")"
   ]
  },
  {
   "cell_type": "code",
   "execution_count": 7,
   "metadata": {},
   "outputs": [
    {
     "name": "stdout",
     "output_type": "stream",
     "text": [
      "Matrix of confusion : \n",
      "=========================\n",
      "        [48  1]\n",
      "        [ 1 50]\n",
      "=========================\n"
     ]
    }
   ],
   "source": [
    "modelAda.matrixConfusion()"
   ]
  },
  {
   "cell_type": "code",
   "execution_count": 8,
   "metadata": {},
   "outputs": [
    {
     "name": "stdout",
     "output_type": "stream",
     "text": [
      "General report:\n",
      "======================================================\n",
      "              precision    recall  f1-score   support\n",
      "\n",
      "           0       0.98      0.98      0.98        49\n",
      "           1       0.98      0.98      0.98        51\n",
      "\n",
      "    accuracy                           0.98       100\n",
      "   macro avg       0.98      0.98      0.98       100\n",
      "weighted avg       0.98      0.98      0.98       100\n",
      "\n",
      "======================================================\n"
     ]
    }
   ],
   "source": [
    "modelAda.generalReport()"
   ]
  },
  {
   "cell_type": "markdown",
   "metadata": {},
   "source": [
    "## 6 - Valid Template:"
   ]
  },
  {
   "cell_type": "code",
   "execution_count": 9,
   "metadata": {},
   "outputs": [],
   "source": [
    "modelAda.subdivideEstados() #para definir as caracteristicas do modelo"
   ]
  },
  {
   "cell_type": "code",
   "execution_count": 10,
   "metadata": {},
   "outputs": [],
   "source": [
    "modelAda.subdivideCaracteristicas() #para definir as caracteristicas de cada coluna"
   ]
  },
  {
   "cell_type": "code",
   "execution_count": 11,
   "metadata": {},
   "outputs": [],
   "source": [
    "try:\n",
    "    arq = open('Json\\\\Subtitle.json', 'r')\n",
    "    dicti= js.loads(arq.read())\n",
    "    arq.close()\n",
    "except:\n",
    "    print(\"Err\")"
   ]
  },
  {
   "cell_type": "code",
   "execution_count": 13,
   "metadata": {},
   "outputs": [],
   "source": [
    "dictionary = dicti[1:]\n",
    "freq = [[1,2], [6,7,10,12,13,14,15,16,17,18,19], [3], [4], [5], [8], [9], [11], [20,21]]"
   ]
  },
  {
   "cell_type": "code",
   "execution_count": 17,
   "metadata": {},
   "outputs": [],
   "source": [
    "dict1 = {}\n",
    "for i in range(len(dictionary)):\n",
    "    for j in freq[i]:\n",
    "        k = j - 1\n",
    "        dict1[modelAda.data.data.columns[k + 1]] = modelAda.characteristicAtt(k, list(dictionary[i].values()))"
   ]
  },
  {
   "cell_type": "code",
   "execution_count": 18,
   "metadata": {},
   "outputs": [],
   "source": [
    "pad = pd.DataFrame(list(dict1.values()), columns = [\"Concluding Characteristic\", \"Character of the evaded\"], index = list(dict1.keys()))"
   ]
  },
  {
   "cell_type": "code",
   "execution_count": 19,
   "metadata": {},
   "outputs": [
    {
     "data": {
      "text/html": [
       "<div>\n",
       "<style scoped>\n",
       "    .dataframe tbody tr th:only-of-type {\n",
       "        vertical-align: middle;\n",
       "    }\n",
       "\n",
       "    .dataframe tbody tr th {\n",
       "        vertical-align: top;\n",
       "    }\n",
       "\n",
       "    .dataframe thead th {\n",
       "        text-align: right;\n",
       "    }\n",
       "</style>\n",
       "<table border=\"1\" class=\"dataframe\">\n",
       "  <thead>\n",
       "    <tr style=\"text-align: right;\">\n",
       "      <th></th>\n",
       "      <th>Concluding Characteristic</th>\n",
       "      <th>Character of the evaded</th>\n",
       "    </tr>\n",
       "  </thead>\n",
       "  <tbody>\n",
       "    <tr>\n",
       "      <th>The year on what left University</th>\n",
       "      <td>2006 - 2007</td>\n",
       "      <td>2014 - 2015</td>\n",
       "    </tr>\n",
       "    <tr>\n",
       "      <th>The year on what entered the University</th>\n",
       "      <td>2016 - 2017</td>\n",
       "      <td>2006 - 2007</td>\n",
       "    </tr>\n",
       "    <tr>\n",
       "      <th>Moved to the city of the institution</th>\n",
       "      <td>Yes</td>\n",
       "      <td>No</td>\n",
       "    </tr>\n",
       "    <tr>\n",
       "      <th>Lived in the Academic Village</th>\n",
       "      <td>Yes</td>\n",
       "      <td>No</td>\n",
       "    </tr>\n",
       "    <tr>\n",
       "      <th>Obtained Bag During The Course</th>\n",
       "      <td>Yes</td>\n",
       "      <td>No</td>\n",
       "    </tr>\n",
       "    <tr>\n",
       "      <th>Had Institutional Support</th>\n",
       "      <td>Yes</td>\n",
       "      <td>No</td>\n",
       "    </tr>\n",
       "    <tr>\n",
       "      <th>Disciplines Grid</th>\n",
       "      <td>Yes</td>\n",
       "      <td>No</td>\n",
       "    </tr>\n",
       "    <tr>\n",
       "      <th>Requirements to study Subjects</th>\n",
       "      <td>Yes</td>\n",
       "      <td>No</td>\n",
       "    </tr>\n",
       "    <tr>\n",
       "      <th>Forms of Evaluation</th>\n",
       "      <td>Yes</td>\n",
       "      <td>No</td>\n",
       "    </tr>\n",
       "    <tr>\n",
       "      <th>Institution Infrastructure</th>\n",
       "      <td>Yes</td>\n",
       "      <td>No</td>\n",
       "    </tr>\n",
       "    <tr>\n",
       "      <th>Teachers Quality</th>\n",
       "      <td>No</td>\n",
       "      <td>Yes</td>\n",
       "    </tr>\n",
       "    <tr>\n",
       "      <th>Remuneration of the Professionals</th>\n",
       "      <td>Yes</td>\n",
       "      <td>No</td>\n",
       "    </tr>\n",
       "    <tr>\n",
       "      <th>Relationship from parents</th>\n",
       "      <td>Yes</td>\n",
       "      <td>No</td>\n",
       "    </tr>\n",
       "    <tr>\n",
       "      <th>Institution Studied in High School</th>\n",
       "      <td>Private</td>\n",
       "      <td>Public</td>\n",
       "    </tr>\n",
       "    <tr>\n",
       "      <th>Type of Institution Studied in High School</th>\n",
       "      <td>Private</td>\n",
       "      <td>Public</td>\n",
       "    </tr>\n",
       "    <tr>\n",
       "      <th>City that lived before</th>\n",
       "      <td>Others</td>\n",
       "      <td>Cities of the CE</td>\n",
       "    </tr>\n",
       "    <tr>\n",
       "      <th>Monthly Income</th>\n",
       "      <td>More than 3000</td>\n",
       "      <td>Less than 500</td>\n",
       "    </tr>\n",
       "    <tr>\n",
       "      <th>Belongs to which breed</th>\n",
       "      <td>White</td>\n",
       "      <td>Brown or Black</td>\n",
       "    </tr>\n",
       "    <tr>\n",
       "      <th>Academic Performance Index</th>\n",
       "      <td>Approved in all</td>\n",
       "      <td>failed in up to five subjects</td>\n",
       "    </tr>\n",
       "    <tr>\n",
       "      <th>Father Education Degree</th>\n",
       "      <td>higher level</td>\n",
       "      <td>fundamental level</td>\n",
       "    </tr>\n",
       "    <tr>\n",
       "      <th>Mother's Education Degree</th>\n",
       "      <td>higher level</td>\n",
       "      <td>Others</td>\n",
       "    </tr>\n",
       "  </tbody>\n",
       "</table>\n",
       "</div>"
      ],
      "text/plain": [
       "                                           Concluding Characteristic  \\\n",
       "The year on what left University                         2006 - 2007   \n",
       "The year on what entered the University                  2016 - 2017   \n",
       "Moved to the city of the institution                             Yes   \n",
       "Lived in the Academic Village                                    Yes   \n",
       "Obtained Bag During The Course                                   Yes   \n",
       "Had Institutional Support                                        Yes   \n",
       "Disciplines Grid                                                 Yes   \n",
       "Requirements to study Subjects                                   Yes   \n",
       "Forms of Evaluation                                              Yes   \n",
       "Institution Infrastructure                                       Yes   \n",
       "Teachers Quality                                                  No   \n",
       "Remuneration of the Professionals                                Yes   \n",
       "Relationship from parents                                        Yes   \n",
       "Institution Studied in High School                           Private   \n",
       "Type of Institution Studied in High School                   Private   \n",
       "City that lived before                                        Others   \n",
       "Monthly Income                                        More than 3000   \n",
       "Belongs to which breed                                         White   \n",
       "Academic Performance Index                           Approved in all   \n",
       "Father Education Degree                                 higher level   \n",
       "Mother's Education Degree                               higher level   \n",
       "\n",
       "                                                  Character of the evaded  \n",
       "The year on what left University                              2014 - 2015  \n",
       "The year on what entered the University                       2006 - 2007  \n",
       "Moved to the city of the institution                                   No  \n",
       "Lived in the Academic Village                                          No  \n",
       "Obtained Bag During The Course                                         No  \n",
       "Had Institutional Support                                              No  \n",
       "Disciplines Grid                                                       No  \n",
       "Requirements to study Subjects                                         No  \n",
       "Forms of Evaluation                                                    No  \n",
       "Institution Infrastructure                                             No  \n",
       "Teachers Quality                                                      Yes  \n",
       "Remuneration of the Professionals                                      No  \n",
       "Relationship from parents                                              No  \n",
       "Institution Studied in High School                                 Public  \n",
       "Type of Institution Studied in High School                         Public  \n",
       "City that lived before                                   Cities of the CE  \n",
       "Monthly Income                                              Less than 500  \n",
       "Belongs to which breed                                     Brown or Black  \n",
       "Academic Performance Index                  failed in up to five subjects  \n",
       "Father Education Degree                                 fundamental level  \n",
       "Mother's Education Degree                                          Others  "
      ]
     },
     "execution_count": 19,
     "metadata": {},
     "output_type": "execute_result"
    }
   ],
   "source": [
    "pad #caracteristica do modelo"
   ]
  }
 ],
 "metadata": {
  "kernelspec": {
   "display_name": "Python 3",
   "language": "python",
   "name": "python3"
  },
  "language_info": {
   "codemirror_mode": {
    "name": "ipython",
    "version": 3
   },
   "file_extension": ".py",
   "mimetype": "text/x-python",
   "name": "python",
   "nbconvert_exporter": "python",
   "pygments_lexer": "ipython3",
   "version": "3.7.3"
  }
 },
 "nbformat": 4,
 "nbformat_minor": 2
}
