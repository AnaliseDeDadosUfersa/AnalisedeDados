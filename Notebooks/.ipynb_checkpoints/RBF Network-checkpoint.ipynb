{
 "cells": [
  {
   "cell_type": "markdown",
   "metadata": {},
   "source": [
    "# Modelo RBF Network"
   ]
  },
  {
   "cell_type": "markdown",
   "metadata": {},
   "source": [
    "<p style='text-align: justify;'>O modelo RBF Network é um modelo de RNA (Rede Neural Artificial) que utiliza como função de ativação uma função de base radial, o modelo consiste em um conjunto de neuronios artificiais que constitue ao todo 3 camadas, uma camada de entrada, uma camada interna ou ocuta, onde os dados seram processados, e uma camada de saída.</p>\n",
    "<img src = \"../Diagrama/RBFN.png\" alt= \"Imagem do modelo RBFN\"></img>\n",
    "<i><p><center>Figura 1: Arquitetura de uma rede de função de base radial.</center></p></i>\n",
    "<p style='text-align: justify;'>Assim como toda RNA o modelo RBFN irá definir os seus pesos sinapticos wn, de modo que y = g(n) seja igual a yi passado no treinamento do modelo, o modelo sera treinando com um conjunto de dados aleatorios, constituindo por 70% do total dos dados. O modelo RBFN em sua essencia é um modelo <i>freedforward</i> de camada multipla, significa que o treino é de extrema importancia e que sua definição é essencial para a predição do modelo, portanto o modelo so será tão bom quanto os elementos de treino utilizados.</p>"
   ]
  },
  {
   "cell_type": "code",
   "execution_count": 5,
   "metadata": {},
   "outputs": [],
   "source": [
    "from sklearn.gaussian_process.kernels import RBF"
   ]
  },
  {
   "cell_type": "code",
   "execution_count": 6,
   "metadata": {},
   "outputs": [],
   "source": [
    "modelRBF = RBF()"
   ]
  },
  {
   "cell_type": "code",
   "execution_count": null,
   "metadata": {},
   "outputs": [],
   "source": []
  }
 ],
 "metadata": {
  "kernelspec": {
   "display_name": "Python 3",
   "language": "python",
   "name": "python3"
  },
  "language_info": {
   "codemirror_mode": {
    "name": "ipython",
    "version": 3
   },
   "file_extension": ".py",
   "mimetype": "text/x-python",
   "name": "python",
   "nbconvert_exporter": "python",
   "pygments_lexer": "ipython3",
   "version": "3.7.3"
  }
 },
 "nbformat": 4,
 "nbformat_minor": 2
}
