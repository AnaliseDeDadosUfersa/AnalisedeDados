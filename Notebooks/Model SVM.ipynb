{
 "cells": [
  {
   "cell_type": "markdown",
   "metadata": {},
   "source": [
    "# Model SVM"
   ]
  },
  {
   "cell_type": "markdown",
   "metadata": {},
   "source": [
    "<p>As Máquinas de Vetores de Suporte (SVMs, do Inglês Support Vector Machines) constituem uma técnica de aprendizado que vem recebendo crescente atenção da comunidade de\n",
    "Aprendizado de Máquina (AM) [27]. Os resultados da aplicação dessa técnica são com-\n",
    "paráveis e muitas vezes superiores aos obtidos por outros algoritmos de aprendizado, como\n",
    "as Redes Neurais Artificiais (RNAs) [4, 14].</p>\n",
    "<p>As SVMs são embasadas pela teoria de aprendizado estatístico, desenvolvida por Vap-\n",
    "nik [41] a partir de estudos iniciados em [43]. Essa teoria estabelece uma série de princípios\n",
    "que devem ser seguidos na obtenção de classificadores com boa generalização, definida como\n",
    "a sua capacidade de prever corretamente a classe de novos dados do mesmo domínio em que\n",
    "o aprendizado ocorreu.</p>"
   ]
  },
  {
   "cell_type": "markdown",
   "metadata": {},
   "source": [
    "<b>Nota:</b>\n",
    "<p>Para o desenvolvimento do modelo foi utilizado o modelo SVC() disponibilizado na biblioteca sklearn.</p>"
   ]
  },
  {
   "cell_type": "code",
   "execution_count": 2,
   "metadata": {},
   "outputs": [],
   "source": [
    "#importando objetos utilizados\n",
    "from ModelSVM import ModelSVM\n",
    "import pandas as pd\n",
    "import json as js"
   ]
  },
  {
   "cell_type": "code",
   "execution_count": 4,
   "metadata": {},
   "outputs": [],
   "source": [
    "#instanciando o objeto com a tabela com os dados já tratados\n",
    "modelsvm = ModelSVM(\"../Csv/Model.csv\", 0)"
   ]
  },
  {
   "cell_type": "markdown",
   "metadata": {},
   "source": [
    "## 5.2 - Adjustment in algorithm"
   ]
  },
  {
   "cell_type": "markdown",
   "metadata": {},
   "source": [
    "<p>Nessa etapa de ajustes serão definidos aleatoriamente o treino e o teste do modelo, o teste do modelo sera de 30% dos valores do banco de dados origial. Apos a definição dos elementos de treino e teste o modelo sera treinado com os dados de treino.\n",
    "</p>"
   ]
  },
  {
   "cell_type": "code",
   "execution_count": 5,
   "metadata": {},
   "outputs": [],
   "source": [
    "modelsvm.defineTest(0.3) #define que o modelo terá 30 % dos dados de treino e 70 % dos dados como teste"
   ]
  },
  {
   "cell_type": "code",
   "execution_count": 6,
   "metadata": {},
   "outputs": [
    {
     "data": {
      "text/plain": [
       "SVC(C=1.0, cache_size=200, class_weight=None, coef0=0.0,\n",
       "    decision_function_shape='ovr', degree=3, gamma='scale', kernel='rbf',\n",
       "    max_iter=-1, probability=False, random_state=None, shrinking=True,\n",
       "    tol=0.001, verbose=False)"
      ]
     },
     "execution_count": 6,
     "metadata": {},
     "output_type": "execute_result"
    }
   ],
   "source": [
    "modelsvm.model.fit(modelsvm.x_train, modelsvm.y_train) #treina o modelo"
   ]
  },
  {
   "cell_type": "markdown",
   "metadata": {},
   "source": [
    "## 5.3 - Validation"
   ]
  },
  {
   "cell_type": "markdown",
   "metadata": {},
   "source": [
    "<p>Nesta etapa serão feitos vários testes de validação do algoritmo, por exemplo: será testado a eficiencia de predição do modelo com os elementos de dados de teste que nesse modelo representam 30% do total de dados. Tambem nessa etapa será mostrada a matriz de confunsão para ser visualizado quais os erros e onde eles estão. <br><b>OBS:</b> Quando mostrada a matriz de confunsão e o resumo geral, serão avaliados neles so conjuntos de todos os dados.</p>"
   ]
  },
  {
   "cell_type": "code",
   "execution_count": 7,
   "metadata": {},
   "outputs": [
    {
     "name": "stdout",
     "output_type": "stream",
     "text": [
      "Porcentagem de acerto nos dados de teste:  100.0 %\n"
     ]
    }
   ],
   "source": [
    "print(\"Porcentagem de acerto nos dados de teste: \", round(modelsvm.model.score(modelsvm.x_test, modelsvm.y_test) * 100, 2), \"%\")"
   ]
  },
  {
   "cell_type": "code",
   "execution_count": 8,
   "metadata": {},
   "outputs": [
    {
     "name": "stdout",
     "output_type": "stream",
     "text": [
      "General report:\n",
      "======================================================\n",
      "              precision    recall  f1-score   support\n",
      "\n",
      "           0       0.98      0.98      0.98        49\n",
      "           1       0.98      0.98      0.98        51\n",
      "\n",
      "    accuracy                           0.98       100\n",
      "   macro avg       0.98      0.98      0.98       100\n",
      "weighted avg       0.98      0.98      0.98       100\n",
      "\n",
      "======================================================\n"
     ]
    }
   ],
   "source": [
    "modelsvm.generalReport()"
   ]
  },
  {
   "cell_type": "code",
   "execution_count": 9,
   "metadata": {},
   "outputs": [
    {
     "name": "stdout",
     "output_type": "stream",
     "text": [
      "Matrix of confusion : \n",
      "=========================\n",
      "        [48  1]\n",
      "        [ 1 50]\n",
      "=========================\n"
     ]
    }
   ],
   "source": [
    "modelsvm.matrixConfusion()"
   ]
  },
  {
   "cell_type": "markdown",
   "metadata": {},
   "source": [
    "## 6 - Valid Template:"
   ]
  },
  {
   "cell_type": "markdown",
   "metadata": {},
   "source": [
    "<p>Na validacao do modelo, será mostrado as caracteristicas individuais que o modelo prediz para cada  caracteristica do ex-aluno.<br> por exemplo: sabe-se que o algoritmo em questao subdivide as caracteristicas em um vetores de n posiçoes e treinam os seus pessos sináptico wn para se chegar em uma matriz g(n) tal que seja igual a saida y passada no treinamento, esse é um treinamento simples que implica a subdvisão das caracteristicasl. A Teoria de Aprendizado Estatístico mostra que essa matriz g(n) simboliza um hiperplano divisor de estados, onde subdivide os estados de forma que os dados de um lado do hiperplano são 1 por exemplo, e os dados do outro lado do hiperplano são 0.<br>Visando essa ideia o template retornara as caracteristicas semtrais dos dois lados do hiperplano, onde estas representam as caracteristicas de concludente (0) e desistente (1). </p>"
   ]
  },
  {
   "cell_type": "code",
   "execution_count": 10,
   "metadata": {},
   "outputs": [],
   "source": [
    "modelsvm.subdivideEstados() #para definir as caracteristicas do modelo"
   ]
  },
  {
   "cell_type": "code",
   "execution_count": 11,
   "metadata": {},
   "outputs": [],
   "source": [
    "modelsvm.subdivideCaracteristicas() #para definir as caracteristicas de cada coluna"
   ]
  },
  {
   "cell_type": "code",
   "execution_count": 12,
   "metadata": {},
   "outputs": [],
   "source": [
    "try:\n",
    "    arq = open('Json\\\\Subtitle.json', 'r')\n",
    "    dicti= js.loads(arq.read())\n",
    "    arq.close()\n",
    "except:\n",
    "    print(\"Err\")"
   ]
  },
  {
   "cell_type": "code",
   "execution_count": 14,
   "metadata": {},
   "outputs": [],
   "source": [
    "dictionary = dicti[1:]\n",
    "freq = [[1,2], [6,7,10,12,13,14,15,16,17,18,19], [3], [4], [5], [8], [9], [11], [20,21]]"
   ]
  },
  {
   "cell_type": "code",
   "execution_count": 15,
   "metadata": {},
   "outputs": [],
   "source": [
    "dict1 = {}\n",
    "for i in range(len(dictionary)):\n",
    "    for j in freq[i]:\n",
    "        k = j - 1\n",
    "        dict1[modelsvm.data.data.columns[k + 1]] = modelsvm.characteristicAtt(k, list(dictionary[i].values()))"
   ]
  },
  {
   "cell_type": "code",
   "execution_count": 16,
   "metadata": {},
   "outputs": [],
   "source": [
    "pad = pd.DataFrame(list(dict1.values()), columns = [\"Concluding Characteristic\", \"Character of the evaded\"], index = list(dict1.keys()))"
   ]
  },
  {
   "cell_type": "code",
   "execution_count": 17,
   "metadata": {},
   "outputs": [
    {
     "data": {
      "text/html": [
       "<div>\n",
       "<style scoped>\n",
       "    .dataframe tbody tr th:only-of-type {\n",
       "        vertical-align: middle;\n",
       "    }\n",
       "\n",
       "    .dataframe tbody tr th {\n",
       "        vertical-align: top;\n",
       "    }\n",
       "\n",
       "    .dataframe thead th {\n",
       "        text-align: right;\n",
       "    }\n",
       "</style>\n",
       "<table border=\"1\" class=\"dataframe\">\n",
       "  <thead>\n",
       "    <tr style=\"text-align: right;\">\n",
       "      <th></th>\n",
       "      <th>Concluding Characteristic</th>\n",
       "      <th>Character of the evaded</th>\n",
       "    </tr>\n",
       "  </thead>\n",
       "  <tbody>\n",
       "    <tr>\n",
       "      <th>The year on what left University</th>\n",
       "      <td>2006 - 2007</td>\n",
       "      <td>2014 - 2015</td>\n",
       "    </tr>\n",
       "    <tr>\n",
       "      <th>The year on what entered the University</th>\n",
       "      <td>2010 - 2011</td>\n",
       "      <td>2006 - 2007</td>\n",
       "    </tr>\n",
       "    <tr>\n",
       "      <th>Moved to the city of the institution</th>\n",
       "      <td>Yes</td>\n",
       "      <td>No</td>\n",
       "    </tr>\n",
       "    <tr>\n",
       "      <th>Lived in the Academic Village</th>\n",
       "      <td>Yes</td>\n",
       "      <td>No</td>\n",
       "    </tr>\n",
       "    <tr>\n",
       "      <th>Obtained Bag During The Course</th>\n",
       "      <td>Yes</td>\n",
       "      <td>No</td>\n",
       "    </tr>\n",
       "    <tr>\n",
       "      <th>Had Institutional Support</th>\n",
       "      <td>Yes</td>\n",
       "      <td>No</td>\n",
       "    </tr>\n",
       "    <tr>\n",
       "      <th>Disciplines Grid</th>\n",
       "      <td>Yes</td>\n",
       "      <td>No</td>\n",
       "    </tr>\n",
       "    <tr>\n",
       "      <th>Requirements to study Subjects</th>\n",
       "      <td>Yes</td>\n",
       "      <td>No</td>\n",
       "    </tr>\n",
       "    <tr>\n",
       "      <th>Forms of Evaluation</th>\n",
       "      <td>Yes</td>\n",
       "      <td>No</td>\n",
       "    </tr>\n",
       "    <tr>\n",
       "      <th>Institution Infrastructure</th>\n",
       "      <td>Yes</td>\n",
       "      <td>No</td>\n",
       "    </tr>\n",
       "    <tr>\n",
       "      <th>Teachers Quality</th>\n",
       "      <td>No</td>\n",
       "      <td>Yes</td>\n",
       "    </tr>\n",
       "    <tr>\n",
       "      <th>Remuneration of the Professionals</th>\n",
       "      <td>Yes</td>\n",
       "      <td>No</td>\n",
       "    </tr>\n",
       "    <tr>\n",
       "      <th>Relationship from parents</th>\n",
       "      <td>Yes</td>\n",
       "      <td>No</td>\n",
       "    </tr>\n",
       "    <tr>\n",
       "      <th>Institution Studied in High School</th>\n",
       "      <td>Private</td>\n",
       "      <td>Public</td>\n",
       "    </tr>\n",
       "    <tr>\n",
       "      <th>Type of Institution Studied in High School</th>\n",
       "      <td>Private</td>\n",
       "      <td>Public</td>\n",
       "    </tr>\n",
       "    <tr>\n",
       "      <th>City that lived before</th>\n",
       "      <td>Others</td>\n",
       "      <td>Cities of the CE</td>\n",
       "    </tr>\n",
       "    <tr>\n",
       "      <th>Monthly Income</th>\n",
       "      <td>More than 3000</td>\n",
       "      <td>Less than 500</td>\n",
       "    </tr>\n",
       "    <tr>\n",
       "      <th>Belongs to which breed</th>\n",
       "      <td>White</td>\n",
       "      <td>Brown or Black</td>\n",
       "    </tr>\n",
       "    <tr>\n",
       "      <th>Academic Performance Index</th>\n",
       "      <td>Approved in all</td>\n",
       "      <td>failed in up to five subjects</td>\n",
       "    </tr>\n",
       "    <tr>\n",
       "      <th>Father Education Degree</th>\n",
       "      <td>higher level</td>\n",
       "      <td>fundamental level</td>\n",
       "    </tr>\n",
       "    <tr>\n",
       "      <th>Mother's Education Degree</th>\n",
       "      <td>higher level</td>\n",
       "      <td>Others</td>\n",
       "    </tr>\n",
       "  </tbody>\n",
       "</table>\n",
       "</div>"
      ],
      "text/plain": [
       "                                           Concluding Characteristic  \\\n",
       "The year on what left University                         2006 - 2007   \n",
       "The year on what entered the University                  2010 - 2011   \n",
       "Moved to the city of the institution                             Yes   \n",
       "Lived in the Academic Village                                    Yes   \n",
       "Obtained Bag During The Course                                   Yes   \n",
       "Had Institutional Support                                        Yes   \n",
       "Disciplines Grid                                                 Yes   \n",
       "Requirements to study Subjects                                   Yes   \n",
       "Forms of Evaluation                                              Yes   \n",
       "Institution Infrastructure                                       Yes   \n",
       "Teachers Quality                                                  No   \n",
       "Remuneration of the Professionals                                Yes   \n",
       "Relationship from parents                                        Yes   \n",
       "Institution Studied in High School                           Private   \n",
       "Type of Institution Studied in High School                   Private   \n",
       "City that lived before                                        Others   \n",
       "Monthly Income                                        More than 3000   \n",
       "Belongs to which breed                                         White   \n",
       "Academic Performance Index                           Approved in all   \n",
       "Father Education Degree                                 higher level   \n",
       "Mother's Education Degree                               higher level   \n",
       "\n",
       "                                                  Character of the evaded  \n",
       "The year on what left University                              2014 - 2015  \n",
       "The year on what entered the University                       2006 - 2007  \n",
       "Moved to the city of the institution                                   No  \n",
       "Lived in the Academic Village                                          No  \n",
       "Obtained Bag During The Course                                         No  \n",
       "Had Institutional Support                                              No  \n",
       "Disciplines Grid                                                       No  \n",
       "Requirements to study Subjects                                         No  \n",
       "Forms of Evaluation                                                    No  \n",
       "Institution Infrastructure                                             No  \n",
       "Teachers Quality                                                      Yes  \n",
       "Remuneration of the Professionals                                      No  \n",
       "Relationship from parents                                              No  \n",
       "Institution Studied in High School                                 Public  \n",
       "Type of Institution Studied in High School                         Public  \n",
       "City that lived before                                   Cities of the CE  \n",
       "Monthly Income                                              Less than 500  \n",
       "Belongs to which breed                                     Brown or Black  \n",
       "Academic Performance Index                  failed in up to five subjects  \n",
       "Father Education Degree                                 fundamental level  \n",
       "Mother's Education Degree                                          Others  "
      ]
     },
     "execution_count": 17,
     "metadata": {},
     "output_type": "execute_result"
    }
   ],
   "source": [
    "pad #caracteristica do modelo"
   ]
  },
  {
   "cell_type": "code",
   "execution_count": 18,
   "metadata": {
    "scrolled": false
   },
   "outputs": [
    {
     "ename": "AttributeError",
     "evalue": "'ModelSVM' object has no attribute 'columnsUm'",
     "output_type": "error",
     "traceback": [
      "\u001b[1;31m---------------------------------------------------------------------------\u001b[0m",
      "\u001b[1;31mAttributeError\u001b[0m                            Traceback (most recent call last)",
      "\u001b[1;32m<ipython-input-18-ba08fe139954>\u001b[0m in \u001b[0;36m<module>\u001b[1;34m\u001b[0m\n\u001b[1;32m----> 1\u001b[1;33m \u001b[0mmodelsvm\u001b[0m\u001b[1;33m.\u001b[0m\u001b[0mshowBarGraph\u001b[0m\u001b[1;33m(\u001b[0m\u001b[1;33m[\u001b[0m\u001b[1;36m1\u001b[0m\u001b[1;33m]\u001b[0m\u001b[1;33m)\u001b[0m\u001b[1;33m\u001b[0m\u001b[1;33m\u001b[0m\u001b[0m\n\u001b[0m",
      "\u001b[1;32m~\\Documents\\Projeto_Pesquisa\\Notebooks\\ModelSVM.py\u001b[0m in \u001b[0;36mshowBarGraph\u001b[1;34m(self, esc)\u001b[0m\n\u001b[0;32m     10\u001b[0m \u001b[1;33m\u001b[0m\u001b[0m\n\u001b[0;32m     11\u001b[0m     \u001b[1;32mdef\u001b[0m \u001b[0mshowBarGraph\u001b[0m\u001b[1;33m(\u001b[0m\u001b[0mself\u001b[0m\u001b[1;33m,\u001b[0m \u001b[0mesc\u001b[0m\u001b[1;33m)\u001b[0m\u001b[1;33m:\u001b[0m\u001b[1;33m\u001b[0m\u001b[1;33m\u001b[0m\u001b[0m\n\u001b[1;32m---> 12\u001b[1;33m         \u001b[0mtemp1\u001b[0m \u001b[1;33m=\u001b[0m \u001b[0mpd\u001b[0m\u001b[1;33m.\u001b[0m\u001b[0mDataFrame\u001b[0m\u001b[1;33m(\u001b[0m\u001b[0mself\u001b[0m\u001b[1;33m.\u001b[0m\u001b[0mcolumnsUm\u001b[0m\u001b[1;33m)\u001b[0m\u001b[1;33m\u001b[0m\u001b[1;33m\u001b[0m\u001b[0m\n\u001b[0m\u001b[0;32m     13\u001b[0m         \u001b[0mtemp2\u001b[0m \u001b[1;33m=\u001b[0m \u001b[0mpd\u001b[0m\u001b[1;33m.\u001b[0m\u001b[0mDataFrame\u001b[0m\u001b[1;33m(\u001b[0m\u001b[0mself\u001b[0m\u001b[1;33m.\u001b[0m\u001b[0mcolumnsZero\u001b[0m\u001b[1;33m)\u001b[0m\u001b[1;33m\u001b[0m\u001b[1;33m\u001b[0m\u001b[0m\n\u001b[0;32m     14\u001b[0m \u001b[1;33m\u001b[0m\u001b[0m\n",
      "\u001b[1;31mAttributeError\u001b[0m: 'ModelSVM' object has no attribute 'columnsUm'"
     ]
    }
   ],
   "source": [
    "modelsvm.showBarGraph([1])#verificar, nao esta funcionando"
   ]
  },
  {
   "cell_type": "code",
   "execution_count": null,
   "metadata": {},
   "outputs": [],
   "source": []
  }
 ],
 "metadata": {
  "kernelspec": {
   "display_name": "Python 3",
   "language": "python",
   "name": "python3"
  },
  "language_info": {
   "codemirror_mode": {
    "name": "ipython",
    "version": 3
   },
   "file_extension": ".py",
   "mimetype": "text/x-python",
   "name": "python",
   "nbconvert_exporter": "python",
   "pygments_lexer": "ipython3",
   "version": "3.7.3"
  }
 },
 "nbformat": 4,
 "nbformat_minor": 2
}
