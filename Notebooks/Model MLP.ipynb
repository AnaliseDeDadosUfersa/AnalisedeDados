{
 "cells": [
  {
   "cell_type": "markdown",
   "metadata": {},
   "source": [
    "# MLP Multilayer perceptron"
   ]
  },
  {
   "cell_type": "markdown",
   "metadata": {},
   "source": [
    "<p style = 'text-align:justify'>\n",
    "Um perceptron multicamada (MLP) é uma rede neural artificial feedforward, consistuida de pelo menos três camadas de nós: uma camada de entrada, uma camada oculta e uma camada de saída. No perceptron mult layer cada nó é um neurônio que usa uma função de ativação não linear, o que significa que a sua saida y depende do processamento dos nós internos.\n",
    "</p>\n",
    "<img src=\"../img/MLP/modelMLP.png\" />\n",
    "<p style = 'text-align:center'>Figura 1: Ilustração de rede Perceptron multicamada. \n",
    "   <br/>Fonte:<i style = 'color:gray'>Silva, Ivan Nunes, Redes Neurais Artificiais:para engenharia e ciências aplicadas</i></p>"
   ]
  },
  {
   "cell_type": "markdown",
   "metadata": {},
   "source": [
    "<b>Nota:</b><p style = 'text-align:justify'>Foi utilizado o objeto MLP da biblioteca sklearn.</p>"
   ]
  },
  {
   "cell_type": "code",
   "execution_count": 11,
   "metadata": {},
   "outputs": [],
   "source": [
    "#importa o objeto\n",
    "from ModelMLP import ModelMLP \n",
    "import pandas as pd\n",
    "import json as js"
   ]
  },
  {
   "cell_type": "code",
   "execution_count": 3,
   "metadata": {},
   "outputs": [],
   "source": [
    "modelMLP = ModelMLP(\"../Csv/Model.csv\", 0) #define o conjunto de dados e a coluna target"
   ]
  },
  {
   "cell_type": "markdown",
   "metadata": {},
   "source": [
    "## 5.2 - Adjustment in algorithm"
   ]
  },
  {
   "cell_type": "code",
   "execution_count": 4,
   "metadata": {},
   "outputs": [],
   "source": [
    "modelMLP.defineTest(0.3) #define o conjunto de teste que seram 30% dos dados para que 70% seja o treino"
   ]
  },
  {
   "cell_type": "code",
   "execution_count": 5,
   "metadata": {},
   "outputs": [
    {
     "name": "stderr",
     "output_type": "stream",
     "text": [
      "C:\\Users\\Arthur\\Anaconda3\\lib\\site-packages\\sklearn\\neural_network\\multilayer_perceptron.py:566: ConvergenceWarning: Stochastic Optimizer: Maximum iterations (200) reached and the optimization hasn't converged yet.\n",
      "  % self.max_iter, ConvergenceWarning)\n"
     ]
    },
    {
     "data": {
      "text/plain": [
       "MLPClassifier(activation='relu', alpha=0.0001, batch_size='auto', beta_1=0.9,\n",
       "              beta_2=0.999, early_stopping=False, epsilon=1e-08,\n",
       "              hidden_layer_sizes=(100,), learning_rate='constant',\n",
       "              learning_rate_init=0.001, max_iter=200, momentum=0.9,\n",
       "              n_iter_no_change=10, nesterovs_momentum=True, power_t=0.5,\n",
       "              random_state=None, shuffle=True, solver='adam', tol=0.0001,\n",
       "              validation_fraction=0.1, verbose=False, warm_start=False)"
      ]
     },
     "execution_count": 5,
     "metadata": {},
     "output_type": "execute_result"
    }
   ],
   "source": [
    "modelMLP.model.fit(modelMLP.x_train, modelMLP.y_train)"
   ]
  },
  {
   "cell_type": "markdown",
   "metadata": {},
   "source": [
    "## 5.3 - Validation"
   ]
  },
  {
   "cell_type": "code",
   "execution_count": 6,
   "metadata": {},
   "outputs": [
    {
     "name": "stdout",
     "output_type": "stream",
     "text": [
      "Porcentagem de acerto nos dados de teste:  90.0 %\n"
     ]
    }
   ],
   "source": [
    "print(\"Porcentagem de acerto nos dados de teste: \", round(modelMLP.model.score(modelMLP.x_test, modelMLP.y_test) * 100, 2), \"%\")"
   ]
  },
  {
   "cell_type": "code",
   "execution_count": 7,
   "metadata": {},
   "outputs": [
    {
     "name": "stdout",
     "output_type": "stream",
     "text": [
      "matrix of confusion : \n",
      "=========================\n",
      "        [47  2]\n",
      "        [ 1 50]\n",
      "=========================\n"
     ]
    }
   ],
   "source": [
    "modelMLP.matrixConfusion()"
   ]
  },
  {
   "cell_type": "code",
   "execution_count": 8,
   "metadata": {},
   "outputs": [
    {
     "name": "stdout",
     "output_type": "stream",
     "text": [
      "General report:\n",
      "======================================================\n",
      "              precision    recall  f1-score   support\n",
      "\n",
      "           0       0.98      0.96      0.97        49\n",
      "           1       0.96      0.98      0.97        51\n",
      "\n",
      "    accuracy                           0.97       100\n",
      "   macro avg       0.97      0.97      0.97       100\n",
      "weighted avg       0.97      0.97      0.97       100\n",
      "\n",
      "======================================================\n"
     ]
    }
   ],
   "source": [
    "modelMLP.generalReport()"
   ]
  },
  {
   "cell_type": "markdown",
   "metadata": {},
   "source": [
    "## 6 - Valid Template:"
   ]
  },
  {
   "cell_type": "code",
   "execution_count": 9,
   "metadata": {},
   "outputs": [],
   "source": [
    "modelMLP.subdivideEstados()"
   ]
  },
  {
   "cell_type": "code",
   "execution_count": 10,
   "metadata": {},
   "outputs": [],
   "source": [
    "modelMLP.subdivideCaracteristicas()"
   ]
  },
  {
   "cell_type": "code",
   "execution_count": 48,
   "metadata": {},
   "outputs": [],
   "source": [
    "pad = pd.DataFrame()"
   ]
  },
  {
   "cell_type": "code",
   "execution_count": 25,
   "metadata": {},
   "outputs": [],
   "source": [
    "try:\n",
    "    arq = open('Json\\\\Subtitle.json', 'r')\n",
    "    dicti= js.loads(arq.read())\n",
    "    arq.close()\n",
    "except:\n",
    "    print(\"Err\")"
   ]
  },
  {
   "cell_type": "code",
   "execution_count": null,
   "metadata": {},
   "outputs": [],
   "source": [
    "dictionary = dicti[1:]"
   ]
  },
  {
   "cell_type": "code",
   "execution_count": 27,
   "metadata": {},
   "outputs": [],
   "source": [
    "freq = [[1,2], [6,7,10,12,13,14,15,16,17,18,19], [3], [4], [5], [8], [9], [11], [20,21]]"
   ]
  },
  {
   "cell_type": "code",
   "execution_count": 28,
   "metadata": {},
   "outputs": [],
   "source": [
    "dict1 = {}\n",
    "for i in range(len(dictionary)):\n",
    "    for j in freq[i]:\n",
    "        k = j - 1\n",
    "        dict1[modelMLP.data.data.columns[k]] = modelMLP.characteristicAtt(k, list(dictionary[i].values()))"
   ]
  },
  {
   "cell_type": "code",
   "execution_count": 29,
   "metadata": {},
   "outputs": [],
   "source": [
    "pad = pd.DataFrame(list(dict1.values()), columns = [\"Concluding Characteristic\", \"Character of the evaded\"], index = list(dict1.keys()))"
   ]
  },
  {
   "cell_type": "code",
   "execution_count": 30,
   "metadata": {},
   "outputs": [
    {
     "data": {
      "text/html": [
       "<div>\n",
       "<style scoped>\n",
       "    .dataframe tbody tr th:only-of-type {\n",
       "        vertical-align: middle;\n",
       "    }\n",
       "\n",
       "    .dataframe tbody tr th {\n",
       "        vertical-align: top;\n",
       "    }\n",
       "\n",
       "    .dataframe thead th {\n",
       "        text-align: right;\n",
       "    }\n",
       "</style>\n",
       "<table border=\"1\" class=\"dataframe\">\n",
       "  <thead>\n",
       "    <tr style=\"text-align: right;\">\n",
       "      <th></th>\n",
       "      <th>Concluding Characteristic</th>\n",
       "      <th>Character of the evaded</th>\n",
       "    </tr>\n",
       "  </thead>\n",
       "  <tbody>\n",
       "    <tr>\n",
       "      <th>Situation</th>\n",
       "      <td>2006 - 2007</td>\n",
       "      <td>2014 - 2015</td>\n",
       "    </tr>\n",
       "    <tr>\n",
       "      <th>The year on what left University</th>\n",
       "      <td>2010 - 2011</td>\n",
       "      <td>2006 - 2007</td>\n",
       "    </tr>\n",
       "    <tr>\n",
       "      <th>City that lived before</th>\n",
       "      <td>Yes</td>\n",
       "      <td>No</td>\n",
       "    </tr>\n",
       "    <tr>\n",
       "      <th>Moved to the city of the institution</th>\n",
       "      <td>Yes</td>\n",
       "      <td>No</td>\n",
       "    </tr>\n",
       "    <tr>\n",
       "      <th>Belongs to which breed</th>\n",
       "      <td>Yes</td>\n",
       "      <td>No</td>\n",
       "    </tr>\n",
       "    <tr>\n",
       "      <th>Academic Performance Index</th>\n",
       "      <td>Yes</td>\n",
       "      <td>No</td>\n",
       "    </tr>\n",
       "    <tr>\n",
       "      <th>Had Institutional Support</th>\n",
       "      <td>Yes</td>\n",
       "      <td>No</td>\n",
       "    </tr>\n",
       "    <tr>\n",
       "      <th>Disciplines Grid</th>\n",
       "      <td>Yes</td>\n",
       "      <td>No</td>\n",
       "    </tr>\n",
       "    <tr>\n",
       "      <th>Requirements to study Subjects</th>\n",
       "      <td>Yes</td>\n",
       "      <td>No</td>\n",
       "    </tr>\n",
       "    <tr>\n",
       "      <th>Forms of Evaluation</th>\n",
       "      <td>Yes</td>\n",
       "      <td>No</td>\n",
       "    </tr>\n",
       "    <tr>\n",
       "      <th>Institution Infrastructure</th>\n",
       "      <td>No</td>\n",
       "      <td>Yes</td>\n",
       "    </tr>\n",
       "    <tr>\n",
       "      <th>Teachers Quality</th>\n",
       "      <td>Yes</td>\n",
       "      <td>No</td>\n",
       "    </tr>\n",
       "    <tr>\n",
       "      <th>Remuneration of the Professionals</th>\n",
       "      <td>Yes</td>\n",
       "      <td>No</td>\n",
       "    </tr>\n",
       "    <tr>\n",
       "      <th>The year on what entered the University</th>\n",
       "      <td>Private</td>\n",
       "      <td>Public</td>\n",
       "    </tr>\n",
       "    <tr>\n",
       "      <th>Institution Studied in High School</th>\n",
       "      <td>Private</td>\n",
       "      <td>Public</td>\n",
       "    </tr>\n",
       "    <tr>\n",
       "      <th>Type of Institution Studied in High School</th>\n",
       "      <td>Others</td>\n",
       "      <td>Cities of the CE</td>\n",
       "    </tr>\n",
       "    <tr>\n",
       "      <th>Lived in the Academic Village</th>\n",
       "      <td>More than 3000</td>\n",
       "      <td>Less than 500</td>\n",
       "    </tr>\n",
       "    <tr>\n",
       "      <th>Monthly Income</th>\n",
       "      <td>White</td>\n",
       "      <td>Brown or Black</td>\n",
       "    </tr>\n",
       "    <tr>\n",
       "      <th>Obtained Bag During The Course</th>\n",
       "      <td>Approved in all</td>\n",
       "      <td>More than five disciplines</td>\n",
       "    </tr>\n",
       "    <tr>\n",
       "      <th>Relationship from parents</th>\n",
       "      <td>higher level</td>\n",
       "      <td>fundamental level</td>\n",
       "    </tr>\n",
       "    <tr>\n",
       "      <th>Father Education Degree</th>\n",
       "      <td>higher level</td>\n",
       "      <td>Others</td>\n",
       "    </tr>\n",
       "  </tbody>\n",
       "</table>\n",
       "</div>"
      ],
      "text/plain": [
       "                                           Concluding Characteristic  \\\n",
       "Situation                                                2006 - 2007   \n",
       "The year on what left University                         2010 - 2011   \n",
       "City that lived before                                           Yes   \n",
       "Moved to the city of the institution                             Yes   \n",
       "Belongs to which breed                                           Yes   \n",
       "Academic Performance Index                                       Yes   \n",
       "Had Institutional Support                                        Yes   \n",
       "Disciplines Grid                                                 Yes   \n",
       "Requirements to study Subjects                                   Yes   \n",
       "Forms of Evaluation                                              Yes   \n",
       "Institution Infrastructure                                        No   \n",
       "Teachers Quality                                                 Yes   \n",
       "Remuneration of the Professionals                                Yes   \n",
       "The year on what entered the University                      Private   \n",
       "Institution Studied in High School                           Private   \n",
       "Type of Institution Studied in High School                    Others   \n",
       "Lived in the Academic Village                         More than 3000   \n",
       "Monthly Income                                                 White   \n",
       "Obtained Bag During The Course                       Approved in all   \n",
       "Relationship from parents                               higher level   \n",
       "Father Education Degree                                 higher level   \n",
       "\n",
       "                                               Character of the evaded  \n",
       "Situation                                                  2014 - 2015  \n",
       "The year on what left University                           2006 - 2007  \n",
       "City that lived before                                              No  \n",
       "Moved to the city of the institution                                No  \n",
       "Belongs to which breed                                              No  \n",
       "Academic Performance Index                                          No  \n",
       "Had Institutional Support                                           No  \n",
       "Disciplines Grid                                                    No  \n",
       "Requirements to study Subjects                                      No  \n",
       "Forms of Evaluation                                                 No  \n",
       "Institution Infrastructure                                         Yes  \n",
       "Teachers Quality                                                    No  \n",
       "Remuneration of the Professionals                                   No  \n",
       "The year on what entered the University                         Public  \n",
       "Institution Studied in High School                              Public  \n",
       "Type of Institution Studied in High School            Cities of the CE  \n",
       "Lived in the Academic Village                            Less than 500  \n",
       "Monthly Income                                          Brown or Black  \n",
       "Obtained Bag During The Course              More than five disciplines  \n",
       "Relationship from parents                            fundamental level  \n",
       "Father Education Degree                                         Others  "
      ]
     },
     "execution_count": 30,
     "metadata": {},
     "output_type": "execute_result"
    }
   ],
   "source": [
    "pad"
   ]
  }
 ],
 "metadata": {
  "kernelspec": {
   "display_name": "Python 3",
   "language": "python",
   "name": "python3"
  },
  "language_info": {
   "codemirror_mode": {
    "name": "ipython",
    "version": 3
   },
   "file_extension": ".py",
   "mimetype": "text/x-python",
   "name": "python",
   "nbconvert_exporter": "python",
   "pygments_lexer": "ipython3",
   "version": "3.7.3"
  }
 },
 "nbformat": 4,
 "nbformat_minor": 2
}
