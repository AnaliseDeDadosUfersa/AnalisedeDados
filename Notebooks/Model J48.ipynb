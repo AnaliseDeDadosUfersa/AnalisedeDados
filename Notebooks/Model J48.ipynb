{
 "cells": [
  {
   "cell_type": "markdown",
   "metadata": {},
   "source": [
    "# Model J48"
   ]
  },
  {
   "cell_type": "markdown",
   "metadata": {},
   "source": [
    "<p>\n",
    "    O modelo J48 é uma implementação do algoritmo C4.5 desenvolvido por Ross Quinlan. O J48 baseia-se na criação de uma arvore de decisão a partir do calculo de entropia, determinando os nós mais a cima pelo maior ganho de informação em relação aos nós mais abaixo na arvore.\n",
    "</p>"
   ]
  },
  {
   "cell_type": "code",
   "execution_count": 1,
   "metadata": {},
   "outputs": [],
   "source": [
    "from ModelJ48 import ModelJ48\n",
    "import pandas as pd\n",
    "import json as js"
   ]
  },
  {
   "cell_type": "code",
   "execution_count": 2,
   "metadata": {},
   "outputs": [],
   "source": [
    "modelJ = ModelJ48(\"../Csv/Model.csv\", 0, \"br\")"
   ]
  },
  {
   "cell_type": "markdown",
   "metadata": {},
   "source": [
    "## 5.2 - Adjustment in algorithm"
   ]
  },
  {
   "cell_type": "code",
   "execution_count": 3,
   "metadata": {},
   "outputs": [],
   "source": [
    "modelJ.defineTest(0.3)"
   ]
  },
  {
   "cell_type": "code",
   "execution_count": 4,
   "metadata": {},
   "outputs": [
    {
     "data": {
      "text/plain": [
       "DecisionTreeClassifier(class_weight=None, criterion='entropy', max_depth=3,\n",
       "                       max_features=None, max_leaf_nodes=None,\n",
       "                       min_impurity_decrease=0.0, min_impurity_split=None,\n",
       "                       min_samples_leaf=5, min_samples_split=2,\n",
       "                       min_weight_fraction_leaf=0.0, presort=False,\n",
       "                       random_state=100, splitter='best')"
      ]
     },
     "execution_count": 4,
     "metadata": {},
     "output_type": "execute_result"
    }
   ],
   "source": [
    "modelJ.model.fit(modelJ.x_train, modelJ.y_train)"
   ]
  },
  {
   "cell_type": "markdown",
   "metadata": {},
   "source": [
    "## 5.3 - Validation"
   ]
  },
  {
   "cell_type": "code",
   "execution_count": 5,
   "metadata": {},
   "outputs": [
    {
     "name": "stdout",
     "output_type": "stream",
     "text": [
      "Porcentagem de acerto nos dados de teste:  93.33 %\n"
     ]
    }
   ],
   "source": [
    "print(\"Porcentagem de acerto nos dados de teste: \", round(modelJ.model.score(modelJ.x_test, modelJ.y_test) * 100, 2), \"%\")"
   ]
  },
  {
   "cell_type": "code",
   "execution_count": 6,
   "metadata": {},
   "outputs": [
    {
     "name": "stdout",
     "output_type": "stream",
     "text": [
      "Matrix de confusão : \n",
      "=========================\n",
      "        [44  5]\n",
      "        [ 2 49]\n",
      "=========================\n"
     ]
    }
   ],
   "source": [
    "modelJ.matrixConfusion()"
   ]
  },
  {
   "cell_type": "code",
   "execution_count": 7,
   "metadata": {},
   "outputs": [
    {
     "name": "stdout",
     "output_type": "stream",
     "text": [
      "Relatório geral:\n",
      "======================================================\n",
      "              precision    recall  f1-score   support\n",
      "\n",
      "           0       0.96      0.90      0.93        49\n",
      "           1       0.91      0.96      0.93        51\n",
      "\n",
      "    accuracy                           0.93       100\n",
      "   macro avg       0.93      0.93      0.93       100\n",
      "weighted avg       0.93      0.93      0.93       100\n",
      "\n",
      "======================================================\n"
     ]
    }
   ],
   "source": [
    "modelJ.generalReport()"
   ]
  },
  {
   "cell_type": "markdown",
   "metadata": {},
   "source": [
    "# Valid Template:"
   ]
  },
  {
   "cell_type": "code",
   "execution_count": 8,
   "metadata": {},
   "outputs": [],
   "source": [
    "modelJ.subdivideEstados()"
   ]
  },
  {
   "cell_type": "code",
   "execution_count": 9,
   "metadata": {},
   "outputs": [],
   "source": [
    "modelJ.subdivideCaracteristicas()"
   ]
  },
  {
   "cell_type": "code",
   "execution_count": 10,
   "metadata": {},
   "outputs": [],
   "source": [
    "try:\n",
    "    arq = open('Json\\\\Subtitle.json', 'r')\n",
    "    dicti= js.loads(arq.read())\n",
    "    arq.close()\n",
    "except:\n",
    "    print(\"Err\")"
   ]
  },
  {
   "cell_type": "code",
   "execution_count": 18,
   "metadata": {},
   "outputs": [
    {
     "data": {
      "text/plain": [
       "{'The year on what left University': ['2006 - 2007', '2014 - 2015'],\n",
       " 'The year on what entered the University': ['2010 - 2011', '2006 - 2007'],\n",
       " 'Moved to the city of the institution': ['Yes', 'No'],\n",
       " 'Lived in the Academic Village': ['Yes', 'No'],\n",
       " 'Obtained Bag During The Course': ['Yes', 'Yes'],\n",
       " 'Had Institutional Support': ['Yes', 'No'],\n",
       " 'Disciplines Grid': ['Yes', 'No'],\n",
       " 'Requirements to study Subjects': ['Yes', 'No'],\n",
       " 'Forms of Evaluation': ['Yes', 'No'],\n",
       " 'Institution Infrastructure': ['Yes', 'No'],\n",
       " 'Teachers Quality ': ['No', 'Yes'],\n",
       " 'Remuneration of the Professionals': ['Yes', 'No'],\n",
       " 'Relationship from parents': ['Yes', 'No'],\n",
       " 'Institution Studied in High School': ['Private', 'Public'],\n",
       " 'Type of Institution Studied in High School': ['Private', 'Public'],\n",
       " 'City that lived before': ['Others', 'Cities of the CE'],\n",
       " 'Monthly Income': ['More than 3000', 'Less than 500'],\n",
       " 'Belongs to which breed': ['White', 'Brown or Black'],\n",
       " 'Academic Performance Index': ['Approved in all',\n",
       "  'failed in up to five subjects'],\n",
       " 'Father Education Degree': ['higher level', 'medium level'],\n",
       " \"Mother's Education Degree\": ['higher level', 'Others']}"
      ]
     },
     "execution_count": 18,
     "metadata": {},
     "output_type": "execute_result"
    }
   ],
   "source": [
    "dict1"
   ]
  },
  {
   "cell_type": "code",
   "execution_count": 11,
   "metadata": {},
   "outputs": [],
   "source": [
    "dictionary = dicti[1:]\n",
    "freq = [[1,2], [6,7,10,12,13,14,15,16,17,18,19], [3], [4], [5], [8], [9], [11], [20,21]]"
   ]
  },
  {
   "cell_type": "code",
   "execution_count": 17,
   "metadata": {},
   "outputs": [],
   "source": [
    "dict1 = {}\n",
    "for i in range(len(dictionary)):\n",
    "    for j in freq[i]:\n",
    "        k = j - 1\n",
    "        dict1[modelJ.data.data.columns[k + 1]] = modelJ.characteristicAtt(k, list(dictionary[i].values()))"
   ]
  },
  {
   "cell_type": "code",
   "execution_count": 21,
   "metadata": {},
   "outputs": [],
   "source": [
    "pad = pd.DataFrame(list(dict1.values()), columns = [\"Concluding Characteristic\", \"Character of the evaded\"], index = list(dict1.keys()))"
   ]
  },
  {
   "cell_type": "code",
   "execution_count": 22,
   "metadata": {},
   "outputs": [
    {
     "data": {
      "text/html": [
       "<div>\n",
       "<style scoped>\n",
       "    .dataframe tbody tr th:only-of-type {\n",
       "        vertical-align: middle;\n",
       "    }\n",
       "\n",
       "    .dataframe tbody tr th {\n",
       "        vertical-align: top;\n",
       "    }\n",
       "\n",
       "    .dataframe thead th {\n",
       "        text-align: right;\n",
       "    }\n",
       "</style>\n",
       "<table border=\"1\" class=\"dataframe\">\n",
       "  <thead>\n",
       "    <tr style=\"text-align: right;\">\n",
       "      <th></th>\n",
       "      <th>Concluding Characteristic</th>\n",
       "      <th>Character of the evaded</th>\n",
       "    </tr>\n",
       "  </thead>\n",
       "  <tbody>\n",
       "    <tr>\n",
       "      <th>The year on what left University</th>\n",
       "      <td>2006 - 2007</td>\n",
       "      <td>2014 - 2015</td>\n",
       "    </tr>\n",
       "    <tr>\n",
       "      <th>The year on what entered the University</th>\n",
       "      <td>2010 - 2011</td>\n",
       "      <td>2006 - 2007</td>\n",
       "    </tr>\n",
       "    <tr>\n",
       "      <th>Moved to the city of the institution</th>\n",
       "      <td>Yes</td>\n",
       "      <td>No</td>\n",
       "    </tr>\n",
       "    <tr>\n",
       "      <th>Lived in the Academic Village</th>\n",
       "      <td>Yes</td>\n",
       "      <td>No</td>\n",
       "    </tr>\n",
       "    <tr>\n",
       "      <th>Obtained Bag During The Course</th>\n",
       "      <td>Yes</td>\n",
       "      <td>Yes</td>\n",
       "    </tr>\n",
       "    <tr>\n",
       "      <th>Had Institutional Support</th>\n",
       "      <td>Yes</td>\n",
       "      <td>No</td>\n",
       "    </tr>\n",
       "    <tr>\n",
       "      <th>Disciplines Grid</th>\n",
       "      <td>Yes</td>\n",
       "      <td>No</td>\n",
       "    </tr>\n",
       "    <tr>\n",
       "      <th>Requirements to study Subjects</th>\n",
       "      <td>Yes</td>\n",
       "      <td>No</td>\n",
       "    </tr>\n",
       "    <tr>\n",
       "      <th>Forms of Evaluation</th>\n",
       "      <td>Yes</td>\n",
       "      <td>No</td>\n",
       "    </tr>\n",
       "    <tr>\n",
       "      <th>Institution Infrastructure</th>\n",
       "      <td>Yes</td>\n",
       "      <td>No</td>\n",
       "    </tr>\n",
       "    <tr>\n",
       "      <th>Teachers Quality</th>\n",
       "      <td>No</td>\n",
       "      <td>Yes</td>\n",
       "    </tr>\n",
       "    <tr>\n",
       "      <th>Remuneration of the Professionals</th>\n",
       "      <td>Yes</td>\n",
       "      <td>No</td>\n",
       "    </tr>\n",
       "    <tr>\n",
       "      <th>Relationship from parents</th>\n",
       "      <td>Yes</td>\n",
       "      <td>No</td>\n",
       "    </tr>\n",
       "    <tr>\n",
       "      <th>Institution Studied in High School</th>\n",
       "      <td>Private</td>\n",
       "      <td>Public</td>\n",
       "    </tr>\n",
       "    <tr>\n",
       "      <th>Type of Institution Studied in High School</th>\n",
       "      <td>Private</td>\n",
       "      <td>Public</td>\n",
       "    </tr>\n",
       "    <tr>\n",
       "      <th>City that lived before</th>\n",
       "      <td>Others</td>\n",
       "      <td>Cities of the CE</td>\n",
       "    </tr>\n",
       "    <tr>\n",
       "      <th>Monthly Income</th>\n",
       "      <td>More than 3000</td>\n",
       "      <td>Less than 500</td>\n",
       "    </tr>\n",
       "    <tr>\n",
       "      <th>Belongs to which breed</th>\n",
       "      <td>White</td>\n",
       "      <td>Brown or Black</td>\n",
       "    </tr>\n",
       "    <tr>\n",
       "      <th>Academic Performance Index</th>\n",
       "      <td>Approved in all</td>\n",
       "      <td>failed in up to five subjects</td>\n",
       "    </tr>\n",
       "    <tr>\n",
       "      <th>Father Education Degree</th>\n",
       "      <td>higher level</td>\n",
       "      <td>medium level</td>\n",
       "    </tr>\n",
       "    <tr>\n",
       "      <th>Mother's Education Degree</th>\n",
       "      <td>higher level</td>\n",
       "      <td>Others</td>\n",
       "    </tr>\n",
       "  </tbody>\n",
       "</table>\n",
       "</div>"
      ],
      "text/plain": [
       "                                           Concluding Characteristic  \\\n",
       "The year on what left University                         2006 - 2007   \n",
       "The year on what entered the University                  2010 - 2011   \n",
       "Moved to the city of the institution                             Yes   \n",
       "Lived in the Academic Village                                    Yes   \n",
       "Obtained Bag During The Course                                   Yes   \n",
       "Had Institutional Support                                        Yes   \n",
       "Disciplines Grid                                                 Yes   \n",
       "Requirements to study Subjects                                   Yes   \n",
       "Forms of Evaluation                                              Yes   \n",
       "Institution Infrastructure                                       Yes   \n",
       "Teachers Quality                                                  No   \n",
       "Remuneration of the Professionals                                Yes   \n",
       "Relationship from parents                                        Yes   \n",
       "Institution Studied in High School                           Private   \n",
       "Type of Institution Studied in High School                   Private   \n",
       "City that lived before                                        Others   \n",
       "Monthly Income                                        More than 3000   \n",
       "Belongs to which breed                                         White   \n",
       "Academic Performance Index                           Approved in all   \n",
       "Father Education Degree                                 higher level   \n",
       "Mother's Education Degree                               higher level   \n",
       "\n",
       "                                                  Character of the evaded  \n",
       "The year on what left University                              2014 - 2015  \n",
       "The year on what entered the University                       2006 - 2007  \n",
       "Moved to the city of the institution                                   No  \n",
       "Lived in the Academic Village                                          No  \n",
       "Obtained Bag During The Course                                        Yes  \n",
       "Had Institutional Support                                              No  \n",
       "Disciplines Grid                                                       No  \n",
       "Requirements to study Subjects                                         No  \n",
       "Forms of Evaluation                                                    No  \n",
       "Institution Infrastructure                                             No  \n",
       "Teachers Quality                                                      Yes  \n",
       "Remuneration of the Professionals                                      No  \n",
       "Relationship from parents                                              No  \n",
       "Institution Studied in High School                                 Public  \n",
       "Type of Institution Studied in High School                         Public  \n",
       "City that lived before                                   Cities of the CE  \n",
       "Monthly Income                                              Less than 500  \n",
       "Belongs to which breed                                     Brown or Black  \n",
       "Academic Performance Index                  failed in up to five subjects  \n",
       "Father Education Degree                                      medium level  \n",
       "Mother's Education Degree                                          Others  "
      ]
     },
     "execution_count": 22,
     "metadata": {},
     "output_type": "execute_result"
    }
   ],
   "source": [
    "pad"
   ]
  },
  {
   "cell_type": "code",
   "execution_count": null,
   "metadata": {},
   "outputs": [],
   "source": []
  }
 ],
 "metadata": {
  "kernelspec": {
   "display_name": "Python 3",
   "language": "python",
   "name": "python3"
  },
  "language_info": {
   "codemirror_mode": {
    "name": "ipython",
    "version": 3
   },
   "file_extension": ".py",
   "mimetype": "text/x-python",
   "name": "python",
   "nbconvert_exporter": "python",
   "pygments_lexer": "ipython3",
   "version": "3.7.3"
  }
 },
 "nbformat": 4,
 "nbformat_minor": 2
}
